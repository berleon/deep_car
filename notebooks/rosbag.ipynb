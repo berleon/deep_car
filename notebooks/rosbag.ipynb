{
 "cells": [
  {
   "cell_type": "code",
   "execution_count": null,
   "metadata": {},
   "outputs": [],
   "source": [
    "%matplotlib inline\n",
    "import rosbag\n",
    "import numpy as np\n",
    "import ros_numpy as rosnp\n",
    "from sensor_msgs.msg import Image\n",
    "import matplotlib.pyplot as plt\n",
    "import imageio\n",
    "from moviepy.editor import ImageSequenceClip"
   ]
  },
  {
   "cell_type": "code",
   "execution_count": null,
   "metadata": {},
   "outputs": [],
   "source": [
    "tti = bag.get_type_and_topic_info()\n",
    "for name, topic in tti.topics.items():\n",
    "    print name\n"
   ]
  },
  {
   "cell_type": "code",
   "execution_count": null,
   "metadata": {},
   "outputs": [],
   "source": [
    "%%timeit -n 10\n",
    "bag = rosbag.Bag('../../deep_car_data/2017-05-15-13-36-10.bag')\n",
    "for topic, msg, t in bag.read_messages(topics=['/app/camera/rgb/image_raw', \n",
    "                                               '/manual_control/steering',\n",
    "                                               '/manual_control/speed']):\n",
    "    if topic == '/app/camera/rgb/image_raw':\n",
    "        rosnp.image.image_to_numpy(msg)\n",
    "bag.close()"
   ]
  },
  {
   "cell_type": "code",
   "execution_count": null,
   "metadata": {},
   "outputs": [],
   "source": [
    "bag = rosbag.Bag('../../deep_car_data/2017-05-15-13-36-10.bag')\n",
    "bag.get_start_time()"
   ]
  },
  {
   "cell_type": "code",
   "execution_count": null,
   "metadata": {},
   "outputs": [],
   "source": [
    "image_list = []\n",
    "topics = ['/app/camera/rgb/image_raw', \n",
    "           '/manual_control/steering',     \n",
    "           '/manual_control/speed']\n",
    "times = {t: [] for t in topics}\n",
    "\n",
    "for topic, msg, time in bag.read_messages(topics=topics):\n",
    "    if topic == '/app/camera/rgb/image_raw':\n",
    "        img = rosnp.image.image_to_numpy(msg)\n",
    "        image_list.append(img)\n",
    "    times[topic].append(time)"
   ]
  },
  {
   "cell_type": "code",
   "execution_count": null,
   "metadata": {},
   "outputs": [],
   "source": [
    "img_times = np.array([t.to_sec() for t in times['/app/camera/rgb/image_raw']])\n",
    "start = np.copy(img_times[0])\n",
    "img_times -= start\n",
    "\n",
    "steering_t = np.array([t.to_sec() for t in times['/manual_control/steering']]) - start\n",
    "speed_t = np.array([t.to_sec() for t in times['/manual_control/speed']]) - start\n",
    "\n"
   ]
  },
  {
   "cell_type": "code",
   "execution_count": null,
   "metadata": {},
   "outputs": [],
   "source": [
    "duration = img_times[-1]\n",
    "fps = len(image_times) / duration\n",
    "print(\"FPS:\", fps)"
   ]
  },
  {
   "cell_type": "code",
   "execution_count": null,
   "metadata": {},
   "outputs": [],
   "source": [
    "fig, ax = plt.subplots(1, 1, figsize=(15, 3))\n",
    "ax.vlines(img_times, np.zeros_like(img_times), np.ones_like(img_times))\n",
    "ax.vlines(steering_t, np.zeros_like(steering_t), np.ones_like(steering_t), colors='r', label='steering')\n",
    "ax.vlines(speed_t, np.zeros_like(speed_t), np.ones_like(speed_t), colors='b', label='speed')\n",
    "ax.legend()"
   ]
  },
  {
   "cell_type": "code",
   "execution_count": null,
   "metadata": {},
   "outputs": [],
   "source": [
    "video = ImageSequenceClip(image_list, fps=10)"
   ]
  },
  {
   "cell_type": "code",
   "execution_count": null,
   "metadata": {},
   "outputs": [],
   "source": [
    "video.write_videofile(\"test.webm\")"
   ]
  },
  {
   "cell_type": "code",
   "execution_count": null,
   "metadata": {},
   "outputs": [],
   "source": [
    "x = rosnp.image.image_to_numpy(msg)\n",
    "plt.imshow(x[::-1])"
   ]
  },
  {
   "cell_type": "code",
   "execution_count": null,
   "metadata": {},
   "outputs": [],
   "source": [
    "one_img = msg.height * msg.width * 3"
   ]
  },
  {
   "cell_type": "code",
   "execution_count": null,
   "metadata": {},
   "outputs": [],
   "source": [
    "10e9 / one_img / 24 / 60"
   ]
  },
  {
   "cell_type": "code",
   "execution_count": null,
   "metadata": {
    "collapsed": true
   },
   "outputs": [],
   "source": []
  }
 ],
 "metadata": {
  "kernelspec": {
   "display_name": "Python 2",
   "language": "python",
   "name": "python2"
  },
  "language_info": {
   "codemirror_mode": {
    "name": "ipython",
    "version": 2
   },
   "file_extension": ".py",
   "mimetype": "text/x-python",
   "name": "python",
   "nbconvert_exporter": "python",
   "pygments_lexer": "ipython2",
   "version": "2.7.6"
  }
 },
 "nbformat": 4,
 "nbformat_minor": 2
}
