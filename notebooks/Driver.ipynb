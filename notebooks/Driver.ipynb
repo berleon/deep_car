{
 "cells": [
  {
   "cell_type": "markdown",
   "metadata": {},
   "source": [
    "## Stream video data to the NN"
   ]
  },
  {
   "cell_type": "code",
   "execution_count": null,
   "metadata": {
    "scrolled": true
   },
   "outputs": [],
   "source": [
    "%load_ext autoreload\n",
    "%autoreload 2\n",
    "\n",
    "#import rospy\n",
    "import time\n",
    "import os\n",
    "import tensorflow as tf\n",
    "from deep_car.model import get_model\n",
    "from deep_car.data import get_steering_delta, get_steering_hist\n",
    "#from sensor_msgs.msg import CompressedImage\n",
    "#from std_msgs.msg import String,Int16\n",
    "\n",
    "\n",
    "check = 1\n",
    "history = []\n",
    "\n"
   ]
  },
  {
   "cell_type": "code",
   "execution_count": null,
   "metadata": {
    "collapsed": true
   },
   "outputs": [],
   "source": [
    "def callbackNN(img):\n",
    "    pred_steering = nn.getPrediciton(img, history)\n",
    "    pub_steering.publish(pred_steering)\n",
    "    \n",
    "    \n",
    "rospy.init_node('PixelDriveNN')"
   ]
  },
  {
   "cell_type": "code",
   "execution_count": null,
   "metadata": {
    "collapsed": true
   },
   "outputs": [],
   "source": [
    "sub = rospy.topics.Subscriber(\"/app/camera/rgb/image_raw/compressed\", CompressedImage, callbackNN)"
   ]
  },
  {
   "cell_type": "code",
   "execution_count": null,
   "metadata": {
    "collapsed": true
   },
   "outputs": [],
   "source": [
    "pub_steering = rospy.Publisher(\"/manual_control/steering\", Int16, queue_size=10)\n",
    "pub_speed = rospy.Publisher(\"/manual_control/speed\", Int16, queue_size=10)"
   ]
  },
  {
   "cell_type": "code",
   "execution_count": null,
   "metadata": {
    "collapsed": true
   },
   "outputs": [],
   "source": [
    "pub_steering.publish(0)\n",
    "time.sleep(0.5)\n",
    "for i in range(90):\n",
    "    time.sleep(0.1)\n",
    "    pub_steering.publish(i)"
   ]
  },
  {
   "cell_type": "code",
   "execution_count": null,
   "metadata": {
    "collapsed": true
   },
   "outputs": [],
   "source": [
    "pub_speed.publish(0)"
   ]
  },
  {
   "cell_type": "code",
   "execution_count": null,
   "metadata": {},
   "outputs": [],
   "source": [
    "gpu_options = tf.GPUOptions(allow_growth=True) \n",
    "sess = tf.InteractiveSession(config=tf.ConfigProto(gpu_options=gpu_options))\n",
    "\n",
    "\n",
    "len_steering_hist = 4 #get_steering_hist(batch).shape[-1]\n",
    "len_steering_delta = 6 #get_steering_delta(batch).shape[-1]\n",
    "y_delta_buckets = 9\n",
    "input_size = (64,48)\n",
    "crop_size = input_size\n",
    "x = tf.placeholder(tf.float32, shape=[None, crop_size[1], crop_size[0], 1], name='image')\n",
    "steering_hist = tf.placeholder(tf.float32, shape=[None, len_steering_hist], name='steering_hist')\n",
    "\n",
    "y_abs_true, y_delta_true, opt_op, \\\n",
    "    y_abs_discr_prob, y_abs_loss, y_delta_prob, y_delta_loss = \\\n",
    "        get_model(x, steering_hist, len_steering_delta, y_delta_buckets)\n",
    "        \n",
    "        \n",
    "saver = tf.train.import_meta_graph('../data/model/steering_mixture_prob_exp.ckpt.meta')\n",
    "saver.restore(sess, tf.train.latest_checkpoint('../data/model/'))"
   ]
  },
  {
   "cell_type": "code",
   "execution_count": null,
   "metadata": {},
   "outputs": [],
   "source": [
    "saver.restore(sess, tf.train.latest_checkpoint('../data/model/'))"
   ]
  },
  {
   "cell_type": "code",
   "execution_count": null,
   "metadata": {
    "collapsed": true
   },
   "outputs": [],
   "source": []
  }
 ],
 "metadata": {
  "kernelspec": {
   "display_name": "Python 3",
   "language": "python",
   "name": "python3"
  },
  "language_info": {
   "codemirror_mode": {
    "name": "ipython",
    "version": 3
   },
   "file_extension": ".py",
   "mimetype": "text/x-python",
   "name": "python",
   "nbconvert_exporter": "python",
   "pygments_lexer": "ipython3",
   "version": "3.5.2"
  }
 },
 "nbformat": 4,
 "nbformat_minor": 2
}
