{
 "cells": [
  {
   "cell_type": "code",
   "execution_count": null,
   "metadata": {
    "collapsed": true
   },
   "outputs": [],
   "source": [
    "from __future__ import division\n",
    "%matplotlib inline\n",
    "%load_ext autoreload\n",
    "%autoreload 2\n",
    "import tensorflow as tf\n",
    "import numpy as np\n",
    "import h5py\n",
    "import os\n",
    "import six\n",
    "from six.moves import range\n",
    "import itertools\n",
    "import matplotlib.pyplot as plt\n",
    "import PIL\n",
    "from tqdm import tqdm\n",
    "from PIL import ImageOps\n",
    "from PIL import ImageEnhance\n",
    "import matplotlib.font_manager\n",
    "from PIL import ImageDraw, ImageFont, ImageFilter\n",
    "import tempfile\n",
    "from datetime import datetime\n",
    "import shutil\n",
    "\n",
    "from deep_car.data import data_generator, discretize, continuous, augment_img, \\\n",
    "    augment_batch, batch_to_numpy, crop_batch, \\\n",
    "    get_steering_delta, get_steering_hist\n",
    "from deep_car.model import Model"
   ]
  },
  {
   "cell_type": "code",
   "execution_count": null,
   "metadata": {},
   "outputs": [],
   "source": [
    "h5py.version.version"
   ]
  },
  {
   "cell_type": "code",
   "execution_count": null,
   "metadata": {
    "collapsed": true
   },
   "outputs": [],
   "source": [
    "data_dir = '../data'\n",
    "model_dir = '../data/model'\n",
    "model_name = 'steering_mixture_prob_exp'\n",
    "tmp_dir = '../tmp'\n",
    "\n",
    "os.makedirs(tmp_dir, exist_ok=True)\n",
    "os.makedirs(model_dir, exist_ok=True)\n",
    "crop_size = (64, 48)\n",
    "\n",
    "h5_train = h5py.File(os.path.join(data_dir, 'train.hdf5'))\n",
    "h5_test = h5py.File(os.path.join(data_dir, 'test.hdf5'))\n",
    "\n",
    "\n",
    "delta_discretize_min = -36 - 4.5\n",
    "delta_discretize_max = 36 + 4.5\n",
    "delta_discretize_buckets = 9"
   ]
  },
  {
   "cell_type": "code",
   "execution_count": null,
   "metadata": {},
   "outputs": [],
   "source": [
    "len(h5_train.keys())"
   ]
  },
  {
   "cell_type": "code",
   "execution_count": null,
   "metadata": {},
   "outputs": [],
   "source": [
    "print(\"{:25}| {:10}| {:30}\".format(\"name\", \"dtype\", \"shape\"))\n",
    "print(\"-\" * 40)\n",
    "for name, dset in h5_train.items():\n",
    "    print(\"{:25}| {:10}| {:30}\".format(name, str(dset.dtype), str(dset.shape)))"
   ]
  },
  {
   "cell_type": "code",
   "execution_count": null,
   "metadata": {},
   "outputs": [],
   "source": [
    "(delta_discretize_max - delta_discretize_min) / 9"
   ]
  },
  {
   "cell_type": "code",
   "execution_count": null,
   "metadata": {
    "collapsed": true
   },
   "outputs": [],
   "source": [
    "def data_generator(h5, batch_size=128, n_epoch=-1, shuffle=True, steering_distance_max=500):\n",
    "    def get_steering(idx):\n",
    "        idx = clip(idx)\n",
    "        return np.array(steering[idx])\n",
    "\n",
    "    def clip(x):\n",
    "        return np.clip(x, 0, n-1)\n",
    "\n",
    "    steering = np.array(h5['steering'])\n",
    "\n",
    "    n = len(h5['image'])\n",
    "    idx = np.arange(n)\n",
    "    if n_epoch == -1:\n",
    "        n_epoch = 1000000000\n",
    "\n",
    "    for epoch in range(n_epoch):\n",
    "        if shuffle:\n",
    "            np.random.shuffle(idx)\n",
    "        for b in range(0, n, batch_size):\n",
    "            batch_idx = np.sort(idx[b:b+batch_size])            \n",
    "            batch = {\n",
    "                'image': h5['image'][batch_idx, :, :],\n",
    "                'steering_abs': h5['steering'][batch_idx, :],\n",
    "            }\n",
    "            yield batch"
   ]
  },
  {
   "cell_type": "code",
   "execution_count": null,
   "metadata": {},
   "outputs": [],
   "source": [
    "batch = next(data_generator(h5_train))\n",
    "for name, arr in sorted(batch.items()):\n",
    "    print(\"{:<17} | {:} \".format(name, arr.shape))"
   ]
  },
  {
   "cell_type": "code",
   "execution_count": null,
   "metadata": {},
   "outputs": [],
   "source": [
    "batch['image'].min(), batch['image'].max(), "
   ]
  },
  {
   "cell_type": "markdown",
   "metadata": {},
   "source": [
    "#### number of seconds per epoch"
   ]
  },
  {
   "cell_type": "code",
   "execution_count": null,
   "metadata": {
    "collapsed": true
   },
   "outputs": [],
   "source": [
    "#%%timeit -n 3\n",
    "\n",
    "#for batch in data_generator(n_epoch=1):\n",
    "#    pass"
   ]
  },
  {
   "cell_type": "code",
   "execution_count": null,
   "metadata": {},
   "outputs": [],
   "source": [
    "crop_size"
   ]
  },
  {
   "cell_type": "code",
   "execution_count": null,
   "metadata": {
    "collapsed": true
   },
   "outputs": [],
   "source": [
    "batch = next(data_generator(h5_train))"
   ]
  },
  {
   "cell_type": "code",
   "execution_count": null,
   "metadata": {},
   "outputs": [],
   "source": [
    "images = [PIL.Image.fromarray(x) for x in batch[\"image\"]]\n",
    "img = images[0]\n",
    "fig, axes = plt.subplots(4, 12, figsize=(20, 5))\n",
    "\n",
    "for ax in axes[:1].flat:\n",
    "    ax.imshow(np.array(img), cmap='gray', vmin=0, vmax=255)\n",
    "    ax.set_xticks([])\n",
    "    ax.set_yticks([])\n",
    "for ax in axes[1:].flat:\n",
    "    ax.imshow(np.array(augment_img(img)), cmap='gray', vmin=0, vmax=255)\n",
    "    ax.set_xticks([])\n",
    "    ax.set_yticks([])"
   ]
  },
  {
   "cell_type": "code",
   "execution_count": null,
   "metadata": {
    "collapsed": true
   },
   "outputs": [],
   "source": [
    "def batch_to_numpy(batch):                                                                                                                                                \n",
    "    x = 2. * batch['image'] / 255. - 1                                          \n",
    "    steering_abs = batch['steering_abs']                                                                              \n",
    "    return x[:, :, :, np.newaxis], steering_abs"
   ]
  },
  {
   "cell_type": "code",
   "execution_count": null,
   "metadata": {},
   "outputs": [],
   "source": [
    "batch_aug = augment_batch(batch)\n",
    "x_image, x_steering_abs = batch_to_numpy(batch_aug)\n",
    "\n",
    "for name, arr in [\n",
    "    ('data', x_image),\n",
    "    ('steering_abs', x_steering_abs),\n",
    "]:\n",
    "    print(\"{:30} | {:20} | {:10} | {:10}\".format(name, str(arr.shape), float(arr.min()), float(arr.max())))\n"
   ]
  },
  {
   "cell_type": "code",
   "execution_count": null,
   "metadata": {},
   "outputs": [],
   "source": [
    "y_delta_buckets = 2\n",
    "gpu_options = tf.GPUOptions(allow_growth=True)\n",
    "sess = tf.InteractiveSession(config=tf.ConfigProto(gpu_options=gpu_options))\n",
    "\n",
    "input_shape = [None, crop_size[1], crop_size[0], 1]\n",
    "m = Model(input_shape)\n",
    "\n",
    "init_op = tf.global_variables_initializer()\n",
    "sess.run(init_op)"
   ]
  },
  {
   "cell_type": "code",
   "execution_count": null,
   "metadata": {
    "collapsed": true
   },
   "outputs": [],
   "source": [
    "history = {}\n",
    "for name in ['steering_abs']:\n",
    "    history[name] = []\n",
    "    history[\"val_\" + name] = []"
   ]
  },
  {
   "cell_type": "code",
   "execution_count": null,
   "metadata": {
    "scrolled": true
   },
   "outputs": [],
   "source": [
    "batch_size = 100\n",
    "n_batches_per_epoch = len(h5_train['image']) // batch_size\n",
    "\n",
    "tqdm_gen = tqdm(data_generator(h5_train, batch_size=batch_size, n_epoch=20))\n",
    "running_loss = 'init'\n",
    "\n",
    "saver = tf.train.Saver()\n",
    "now = datetime.now()\n",
    "save_dir = os.path.join(model_dir, model_name + \"_\" + now.isoformat())\n",
    "os.makedirs(save_dir)\n",
    "\n",
    "for i, batch in enumerate(tqdm_gen):\n",
    "    x_image, x_steering_abs = batch_to_numpy(augment_batch(batch))\n",
    "    steering_loss, _ = sess.run(\n",
    "        [m.steering_abs_loss, m.opt_op], \n",
    "        feed_dict={\n",
    "            m.image: x_image, \n",
    "            m.steering_abs_true: x_steering_abs,\n",
    "            m.training: True,\n",
    "    })\n",
    "    \n",
    "    history['steering_abs'].append(np.mean(steering_loss))\n",
    "    batch_loss = np.mean(steering_loss)\n",
    "    if running_loss == 'init':\n",
    "        running_loss = batch_loss\n",
    "    else:\n",
    "        running_loss = 0.9*running_loss + 0.1*batch_loss\n",
    "        \n",
    "    if i % n_batches_per_epoch == 0:\n",
    "        val_steering_abs = []\n",
    "        for test_batch in data_generator(h5_test, batch_size=batch_size, n_epoch=1):\n",
    "            x_image, x_steering_abs = batch_to_numpy(crop_batch(test_batch))\n",
    "            steering_abs_loss = sess.run(\n",
    "                [m.steering_abs_loss],\n",
    "                feed_dict={\n",
    "                    m.image: x_image, \n",
    "                    m.steering_abs_true: x_steering_abs,\n",
    "                }\n",
    "            )\n",
    "            val_steering_abs.append(np.mean(steering_abs_loss))\n",
    "            \n",
    "        history['val_steering_abs'].append(np.mean(val_steering_abs))\n",
    "            \n",
    "    tqdm_gen.set_description('loss: {:.02f} - val_loss: {:.02f}'.format(running_loss, history['val_steering_abs'][-1]))\n",
    "\n",
    "save_path = saver.save(sess, os.path.join(save_dir, model_name + \".ckpt\"))\n",
    "print(\"Saved model in: \" + os.path.abspath(save_dir))"
   ]
  },
  {
   "cell_type": "code",
   "execution_count": null,
   "metadata": {},
   "outputs": [],
   "source": [
    "save_path = saver.save(sess, os.path.join(save_dir, model_name + \".ckpt\"))\n",
    "print(\"Saved model in: \" + os.path.abspath(save_dir))"
   ]
  },
  {
   "cell_type": "code",
   "execution_count": null,
   "metadata": {},
   "outputs": [],
   "source": [
    "fig, ax = plt.subplots(figsize=(10, 7))\n",
    "\n",
    "for name, hist in sorted(history.items()):\n",
    "    if name.startswith(\"val\"):\n",
    "        ax.plot(np.arange(0, len(hist)*n_batches_per_epoch, n_batches_per_epoch), hist, label=name)\n",
    "    else:\n",
    "        ax.plot(history[name], label=name)\n",
    "ax.legend()"
   ]
  },
  {
   "cell_type": "code",
   "execution_count": null,
   "metadata": {},
   "outputs": [],
   "source": [
    "x_image.shape"
   ]
  },
  {
   "cell_type": "code",
   "execution_count": null,
   "metadata": {
    "scrolled": false
   },
   "outputs": [],
   "source": [
    "for test_batch in data_generator(h5_test, batch_size=batch_size, n_epoch=1):\n",
    "    x_image, x_steering_abs, y_delta_disc, y_distance_to_next_steering = batch_to_numpy(crop_batch(test_batch))\n",
    "    break\n",
    "            \n",
    "y_distance_prob, y_steering_prob = sess.run(\n",
    "    [m.y_distance_prob, m.y_steering_prob], \n",
    "    feed_dict={m.image: x_image, m.steering_abs: x_steering_abs, m.y_distance_true: y_distance_to_next_steering})\n",
    "nrows = 16\n",
    "fig, axes = plt.subplots(ncols=2, nrows=nrows, figsize=(12, 2*nrows))\n",
    "for i, ax in enumerate(axes[:, 1]):\n",
    "    ax.bar(np.linspace(0, 1, len(y_distance_prob[i])), np.exp(y_distance_prob[i]), width=1/len(probs[i]))\n",
    "    ax.vlines(y_distance_to_next_steering[i], 0, ax.get_yticks()[-1], color='r')\n",
    "    axes[i, 0].imshow(x_image[i, :, :, 0], cmap='gray')\n",
    "    \n",
    "    axes[i, 0].set_title(\"{:0.3f}\".format(float(y_steering_prob[i, 0])))\n",
    "    axes[i, 0].set_xticks([])\n",
    "    axes[i, 0].set_yticks([])"
   ]
  },
  {
   "cell_type": "code",
   "execution_count": null,
   "metadata": {
    "collapsed": true
   },
   "outputs": [],
   "source": []
  },
  {
   "cell_type": "code",
   "execution_count": null,
   "metadata": {
    "collapsed": true
   },
   "outputs": [],
   "source": [
    "rows = 10\n",
    "cols = y_delta_prob_.shape[1]\n",
    "bins = y_delta_prob_.shape[2]\n",
    "fig, axes = plt.subplots(rows, cols+2, figsize=(2*cols, rows))\n",
    "\n",
    "for i in range(rows):\n",
    "    for j in range(cols+2):\n",
    "        ax = axes[i, j]\n",
    "        if j == 0:\n",
    "            ax.imshow(X[i, :, :, 0], cmap='gray')\n",
    "            continue\n",
    "        if j == 1:\n",
    "            ax.bar(np.arange(180) - 90, np.exp(probs[i]))\n",
    "            continue\n",
    "            \n",
    "        j = j - 2\n",
    "        ax.bar(np.arange(bins), y_delta_prob_[i, j])\n",
    "        ax.set_ylim(0, 1)\n",
    "\n",
    "for ax in axes.flat:\n",
    "    ax.set_yticks([])\n",
    "    ax.set_xticks([])"
   ]
  },
  {
   "cell_type": "code",
   "execution_count": null,
   "metadata": {
    "collapsed": true
   },
   "outputs": [],
   "source": [
    "def image_draw_info(img, steering_true, steering_pred, font=None):\n",
    "    scale = 30\n",
    "    pred_max = max(steering_pred)\n",
    "    steering_pred = np.array([xi/pred_max * scale for xi in steering_pred])\n",
    "    if font is None:\n",
    "        fonts = matplotlib.font_manager.findSystemFonts(fontpaths=None, fontext='ttf')\n",
    "        mono_fonts = [f for f in fonts if \"mono\" in f.lower() and 'bold' in f.lower()]\n",
    "        mono_font = mono_fonts[0]\n",
    "        font = ImageFont.truetype(mono_font, 18)\n",
    "    \n",
    "    \n",
    "    img = img.resize((640,480))\n",
    "    img= img.convert(\"RGBA\")\n",
    "    draw = ImageDraw.Draw(img)\n",
    "\n",
    "    \n",
    "    angle = steering_true + np.pi/2\n",
    "    x = 1/2 * img.size[0]\n",
    "    y = 90\n",
    "    x_start = x - 200\n",
    "    \n",
    "    legend_color = \"#ff0000\"\n",
    "    pred_color = \"#0099ffaa\"\n",
    "    draw.text((10,10), \"real:{}\".format(steering_true), fill=\"#00ff00ff\", font=font)\n",
    "    draw.text(\n",
    "        (img.size[0] - 300,10), \n",
    "        \"best predict:{}-> {:.2f}\".format(np.argmax(steering_pred) - 90,max(steering_pred)), \n",
    "        fill=pred_color,\n",
    "        font=font\n",
    "    )\n",
    "    \n",
    "    draw.text((x_start-5, y+10), \"-90\", fill=legend_color, font=font)\n",
    "    draw.text((x-5, y+10), \"0\", fill=legend_color, font=font)\n",
    "    draw.text((x-5+ 180, y+10), \"90\", fill=legend_color, font=font)\n",
    "    for i,prob in enumerate(steering_pred):\n",
    "        draw.line([x+2*(i-90), y, x+2*(i-90), y-prob], fill=pred_color, width=2)\n",
    "    \n",
    "    draw.line([x+2*steering_true, y, x+2*steering_true, y - scale], fill=\"#00ff00ff\", width=2)                       \n",
    "    del draw\n",
    "    \n",
    "    return img\n",
    "\n",
    "\n"
   ]
  },
  {
   "cell_type": "code",
   "execution_count": null,
   "metadata": {
    "collapsed": true
   },
   "outputs": [],
   "source": [
    "data_stream = data_generator(h5_train, batch_size=100, n_epoch=1, shuffle=False)\n",
    "_ = next(data_stream)"
   ]
  },
  {
   "cell_type": "code",
   "execution_count": null,
   "metadata": {
    "collapsed": true
   },
   "outputs": [],
   "source": [
    "def extract_normalized_images_from(h5_data):\n",
    "    x = 2.* h5_data['image'][:] / 255. - 1 \n",
    "    y = h5_data['steering'][:]\n",
    "    return x[:,6:-6,8:-8,np.newaxis],y\n",
    "\n",
    "def get_chunks_from(h5_data, chunk_size):\n",
    "    X,y = extract_normalized_images_from(h5_data)\n",
    "    for i in range(0, len(X), chunk_size):\n",
    "        yield X[i: i+chunk_size],y[i: i+chunk_size]\n",
    "    \n",
    "tmp = os.path.abspath('../tmp/')\n",
    "h5_file = h5py.File(os.path.join(data_dir, 'test.hdf5'))\n",
    "tmp_dir = tempfile.mkdtemp(dir=tmp)\n",
    "predictions = []\n",
    "for X,y in get_chunks_from(h5_file, 100):\n",
    "    prediction = sess.run([y_pred], feed_dict={x:X, y_true:y})\n",
    "    predictions.append(prediction[0])\n",
    "predictions = np.concatenate(predictions)    \n"
   ]
  },
  {
   "cell_type": "code",
   "execution_count": null,
   "metadata": {
    "collapsed": true
   },
   "outputs": [],
   "source": [
    "img_fnames = []\n",
    "video_dir = tempfile.mkdtemp(dir=tmp_dir)\n",
    "print(video_dir)\n",
    "idx = 0\n",
    "for batch in tqdm(data_stream):\n",
    "    X, s_hist, y_delta_, y_abs_ = batch_to_numpy(batch)\n",
    "    X = X[:, 6:-6, 8:-8, :]\n",
    "    probs, y_delta_prob_ = sess.run([y_abs_discr_prob, y_delta_prob], \n",
    "                                    feed_dict={x: X, steering_hist: s_hist})\n",
    "    for i in range(len(X)):\n",
    "        img = PIL.Image.fromarray((255*(X[i, :, :, 0]/2 + 0.5)).astype(np.uint8), 'L')\n",
    "        img = image_draw_info(img, y_abs_[i, 0]/np.pi * 180, np.exp(probs[i]))\n",
    "        img_fname = os.path.join(video_dir, \"{:06d}.png\".format(idx))\n",
    "        img.save(img_fname)\n",
    "        idx += 1\n",
    "    \n",
    "    if idx > 500:\n",
    "        break"
   ]
  },
  {
   "cell_type": "code",
   "execution_count": null,
   "metadata": {
    "collapsed": true
   },
   "outputs": [],
   "source": [
    "def save_image(img, i):\n",
    "    img_fname = os.path.join(tmp_dir, \"{:06d}.png\".format(i))\n",
    "    img.save(img_fname)\n",
    "\n",
    "try:\n",
    "    for i,test_pred,test_real, img in zip(range(len(predictions)), predictions, h5_file['steering'][:], h5_file['image'][:]):\n",
    "        img = PIL.Image.fromarray(img)\n",
    "        image_draw_info(img_scale, test_real, test_pred)\n",
    "        save_image(img_scale,i)\n",
    "        \n",
    "    video = ImageSequenceClip(tmp_dir, fps=24, with_mask=False)\n",
    "    video.write_videofile(\"test_set_evaluation.webm\", ffmpeg_params=['-b:v', '0', '-crf', '20'])\n",
    "finally:        \n",
    "    shutil.rmtree(tmp_dir)"
   ]
  },
  {
   "cell_type": "code",
   "execution_count": null,
   "metadata": {
    "collapsed": true
   },
   "outputs": [],
   "source": [
    "1 - 1"
   ]
  },
  {
   "cell_type": "code",
   "execution_count": null,
   "metadata": {
    "collapsed": true
   },
   "outputs": [],
   "source": []
  }
 ],
 "metadata": {
  "kernelspec": {
   "display_name": "Python 3",
   "language": "python",
   "name": "python3"
  },
  "language_info": {
   "codemirror_mode": {
    "name": "ipython",
    "version": 3
   },
   "file_extension": ".py",
   "mimetype": "text/x-python",
   "name": "python",
   "nbconvert_exporter": "python",
   "pygments_lexer": "ipython3",
   "version": "3.5.2"
  }
 },
 "nbformat": 4,
 "nbformat_minor": 2
}
