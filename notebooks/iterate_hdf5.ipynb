{
 "cells": [
  {
   "cell_type": "code",
   "execution_count": null,
   "metadata": {
    "collapsed": true
   },
   "outputs": [],
   "source": [
    "%matplotlib inline\n",
    "from __future__ import division\n",
    "import numpy as np\n",
    "import h5py\n",
    "import os\n",
    "import six\n",
    "from six.moves import range\n",
    "import itertools\n",
    "import matplotlib.pyplot as plt\n",
    "import PIL\n",
    "from PIL import ImageOps\n",
    "from PIL import ImageEnhance"
   ]
  },
  {
   "cell_type": "code",
   "execution_count": null,
   "metadata": {},
   "outputs": [],
   "source": [
    "h5py.version.version"
   ]
  },
  {
   "cell_type": "code",
   "execution_count": null,
   "metadata": {
    "collapsed": true
   },
   "outputs": [],
   "source": [
    "data_dir = '../data'\n",
    "crop_size = (64, 48)\n",
    "\n",
    "h5 = h5py.File(os.path.join(data_dir, 'train.hdf5'))"
   ]
  },
  {
   "cell_type": "code",
   "execution_count": null,
   "metadata": {},
   "outputs": [],
   "source": [
    "print(\"{:10}| {:10}| {:30}\".format(\"name\", \"dtype\", \"shape\"))\n",
    "print(\"-\" * 40)\n",
    "for name, dset in h5.items():\n",
    "    print(\"{:10}| {:10}| {:30}\".format(name, dset.dtype, dset.shape))"
   ]
  },
  {
   "cell_type": "code",
   "execution_count": null,
   "metadata": {
    "collapsed": true
   },
   "outputs": [],
   "source": [
    "def data_generator(batch_size=128, n_epoch=-1):\n",
    "    n = len(h5['image'])\n",
    "    idx = np.arange(n)\n",
    "    np.random.shuffle(idx)\n",
    "    n_batches = n // batch_size\n",
    "    if n_epoch == -1:\n",
    "        n_epoch = 1000000000\n",
    "    for epoch in range(n_epoch):\n",
    "        for b in range(0, n, batch_size):\n",
    "            batch_idx = np.sort(idx[b:b+batch_size])\n",
    "            yield {\n",
    "                'image': h5['image'][batch_idx, :, :],\n",
    "                'steering': h5['steering'][batch_idx, :],\n",
    "                'speed': h5['speed'][batch_idx, :],\n",
    "            }\n",
    "    \n",
    "batch = next(data_generator())"
   ]
  },
  {
   "cell_type": "code",
   "execution_count": null,
   "metadata": {},
   "outputs": [],
   "source": [
    "batch['image'].min(), batch['image'].max(), "
   ]
  },
  {
   "cell_type": "code",
   "execution_count": null,
   "metadata": {},
   "outputs": [],
   "source": [
    "fig, axes = plt.subplots(3, 10, figsize=(15, 4))\n",
    "for i, ax in enumerate(axes.flat):\n",
    "    ax.set_title(\"{:.1f}\".format(float(180 / np.pi * batch['steering'][i])))\n",
    "    ax.imshow(batch['image'][i], cmap='gray')\n",
    "    ax.grid('off')\n",
    "    ax.set_xticks([])\n",
    "    ax.set_yticks([])"
   ]
  },
  {
   "cell_type": "markdown",
   "metadata": {},
   "source": [
    "#### number of seconds per epoch"
   ]
  },
  {
   "cell_type": "code",
   "execution_count": null,
   "metadata": {},
   "outputs": [],
   "source": [
    "%%timeit -n 3\n",
    "\n",
    "for batch in data_generator(n_epoch=1):\n",
    "    pass"
   ]
  },
  {
   "cell_type": "code",
   "execution_count": null,
   "metadata": {
    "collapsed": true
   },
   "outputs": [],
   "source": [
    "batch = next(data_generator())"
   ]
  },
  {
   "cell_type": "code",
   "execution_count": null,
   "metadata": {},
   "outputs": [],
   "source": [
    "def augment_img(img):\n",
    "    width, height = img.size\n",
    "    max_crop_left = img.size[0] - crop_size[0]\n",
    "    max_crop_upper = img.size[1] - crop_size[1]\n",
    "    left = np.random.choice(max_crop_left)\n",
    "    upper = np.random.choice(max_crop_upper)\n",
    "    img = img.crop([left, upper, left + crop_size[0], upper + crop_size[1]])\n",
    "                    #width - left, height - upper])\n",
    "    brightness = ImageEnhance.Brightness(img)\n",
    "\n",
    "    img = brightness.enhance(np.random.uniform(0.25, 2.5))\n",
    "    contrast = ImageEnhance.Contrast(img)\n",
    "    img = contrast.enhance(np.random.uniform(0.25, 2.5))\n",
    "    return img\n",
    "\n",
    "images = [PIL.Image.fromarray(x) for x in batch[\"image\"]]\n",
    "img = images[0]\n",
    "fig, axes = plt.subplots(4, 12, figsize=(20, 5))\n",
    "\n",
    "for ax in axes[:1].flat:\n",
    "    ax.imshow(np.array(img), cmap='gray')\n",
    "    ax.set_xticks([])\n",
    "    ax.set_yticks([])\n",
    "for ax in axes[1:].flat:\n",
    "    ax.imshow(np.array(augment_img(img)), cmap='gray')\n",
    "    ax.set_xticks([])\n",
    "    ax.set_yticks([])"
   ]
  },
  {
   "cell_type": "code",
   "execution_count": null,
   "metadata": {},
   "outputs": [],
   "source": [
    "def augment_batch(batch):\n",
    "    images = [PIL.Image.fromarray(x) for x in batch[\"image\"]]\n",
    "    images = [augment_img(img) for img in images]\n",
    "    batch_aug = {'images': np.stack([np.array(img) for img in images])}\n",
    "    for k, v in batch.items():\n",
    "        if k != 'images':\n",
    "            batch_aug[k] = v\n",
    "    return batch_aug\n",
    "\n",
    "batch_aug = augment_batch(batch)\n",
    "\n",
    "fig, axes = plt.subplots(3, 12, figsize=(15, 4))\n",
    "\n",
    "for ax, img, steering in zip(axes.flat, batch_aug['images'], batch_aug['steering']):\n",
    "    ax.imshow((img), cmap='gray')\n",
    "    ax.set_title(\"{:}\".format(int(180*float(steering) / np.pi)))\n",
    "    ax.set_xticks([])\n",
    "    ax.set_yticks([])"
   ]
  },
  {
   "cell_type": "code",
   "execution_count": null,
   "metadata": {},
   "outputs": [],
   "source": [
    "def batch_to_numpy(batch):\n",
    "    return 2.* batch['images'] / 255. - 1, batch['steering']\n",
    "\n",
    "X, y = batch_to_numpy(batch_aug)\n",
    "print(\"data: {}, labels: {}\".format(X.shape, y.shape))\n",
    "print(\"data max: {}, data min: {}\".format(X.max(), X.min()))\n",
    "print(\"labels max: {}, labels min: {}\".format(y.max(), y.min()))"
   ]
  },
  {
   "cell_type": "code",
   "execution_count": null,
   "metadata": {
    "collapsed": true
   },
   "outputs": [],
   "source": []
  }
 ],
 "metadata": {
  "kernelspec": {
   "display_name": "Python 2",
   "language": "python",
   "name": "python2"
  },
  "language_info": {
   "codemirror_mode": {
    "name": "ipython",
    "version": 2
   },
   "file_extension": ".py",
   "mimetype": "text/x-python",
   "name": "python",
   "nbconvert_exporter": "python",
   "pygments_lexer": "ipython2",
   "version": "2.7.6"
  }
 },
 "nbformat": 4,
 "nbformat_minor": 2
}
